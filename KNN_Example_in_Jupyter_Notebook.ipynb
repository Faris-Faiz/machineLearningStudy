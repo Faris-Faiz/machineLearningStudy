{
 "cells": [
  {
   "cell_type": "markdown",
   "id": "2813047e",
   "metadata": {},
   "source": [
    "KNN - Predicting whether or not a person has diabetus mellitus or not"
   ]
  },
  {
   "cell_type": "markdown",
   "id": "3991b24b",
   "metadata": {},
   "source": [
    "Preparation of data (reading the dataset)"
   ]
  },
  {
   "cell_type": "code",
   "execution_count": 1,
   "id": "94791a75",
   "metadata": {},
   "outputs": [],
   "source": [
    "import pandas as pd\n",
    "import numpy as np\n",
    "\n",
    "from sklearn.model_selection import train_test_split\n",
    "from sklearn.preprocessing import StandardScaler # to make data more uniform\n",
    "from sklearn.neighbors import KNeighborsClassifier\n",
    "from sklearn.metrics import confusion_matrix # for testing our data\n",
    "from sklearn.metrics import f1_score # for testing our data\n",
    "from sklearn.metrics import accuracy_score # for testing our data"
   ]
  },
  {
   "cell_type": "code",
   "execution_count": 2,
   "id": "ba61d8e0",
   "metadata": {},
   "outputs": [
    {
     "name": "stdout",
     "output_type": "stream",
     "text": [
      "768\n",
      "   Pregnancies  Glucose  BloodPressure  SkinThickness  Insulin   BMI  \\\n",
      "0            6      148             72             35        0  33.6   \n",
      "1            1       85             66             29        0  26.6   \n",
      "2            8      183             64              0        0  23.3   \n",
      "3            1       89             66             23       94  28.1   \n",
      "4            0      137             40             35      168  43.1   \n",
      "\n",
      "   DiabetesPedigreeFunction  Age  Outcome  \n",
      "0                     0.627   50        1  \n",
      "1                     0.351   31        0  \n",
      "2                     0.672   32        1  \n",
      "3                     0.167   21        0  \n",
      "4                     2.288   33        1  \n"
     ]
    }
   ],
   "source": [
    "dataset = pd.read_csv('diabetes.csv')\n",
    "print( len(dataset) )\n",
    "print( dataset.head() )"
   ]
  },
  {
   "cell_type": "markdown",
   "id": "bf15219c",
   "metadata": {},
   "source": [
    "Preparation of data (removing 0's, and replacing it with mean values)"
   ]
  },
  {
   "cell_type": "code",
   "execution_count": 3,
   "id": "53addda0",
   "metadata": {},
   "outputs": [],
   "source": [
    "# Replace zeroes \n",
    "zero_not_accepted = ['Glucose', 'BloodPressure', 'SkinThickness', 'BMI', 'Insulin'] # column names\n",
    "\n",
    "for column in zero_not_accepted:\n",
    "\tdataset[column] = dataset[column].replace(0, np.NaN)    # replace whatever zero you find in a column \n",
    "                                                            # with 0 in each of those columns from zero_not_accepted\n",
    "\tmean = int(dataset[column].mean(skipna=True))           # calculate the mean to replace the 0's with\n",
    "\tdataset[column] = dataset[column].replace(np.NaN, mean) # insert the NaN values with mean "
   ]
  },
  {
   "cell_type": "markdown",
   "id": "e5f9c01e",
   "metadata": {},
   "source": [
    "Preparation of data (splitting data set into two, one is training data, another one is testing data"
   ]
  },
  {
   "cell_type": "code",
   "execution_count": 4,
   "id": "07907a68",
   "metadata": {},
   "outputs": [],
   "source": [
    "# split dataset\n",
    "X = dataset.iloc[:, 0:8] # looking at all rows, from column 0 till 7 only\n",
    "y = dataset.iloc[:, 8] # looking at all rows, from column 0 till 7 only\n",
    "X_train, X_test, y_train, y_test = train_test_split(X, y, random_state = 0, test_size = 0.2) # putting aside 20% of \n",
    "                                                                                             # dataset into the test sample"
   ]
  },
  {
   "cell_type": "code",
   "execution_count": 5,
   "id": "18efb4ec",
   "metadata": {},
   "outputs": [],
   "source": [
    "# Feature scaling\n",
    "sc_X = StandardScaler()               # to scale the data, so that we don't  \n",
    "                                      # calculate extremes, \n",
    "                                      # to scale down calculations\n",
    "\n",
    "X_train = sc_X.fit_transform(X_train) # replace our old X_train into scaled\n",
    "                                      # training data\n",
    "\n",
    "X_test = sc_X.transform(X_test)       # replace our old X_test into scaled\n",
    "                                      # training data"
   ]
  },
  {
   "cell_type": "code",
   "execution_count": 6,
   "id": "c86ffad0",
   "metadata": {},
   "outputs": [
    {
     "data": {
      "text/plain": [
       "12.409673645990857"
      ]
     },
     "execution_count": 6,
     "metadata": {},
     "output_type": "execute_result"
    }
   ],
   "source": [
    "import math\n",
    "math.sqrt(len(y_test))"
   ]
  },
  {
   "cell_type": "code",
   "execution_count": 7,
   "id": "98c449c0",
   "metadata": {},
   "outputs": [],
   "source": [
    "# Define the model: Init K-NN\n",
    "classifier = KNeighborsClassifier(n_neighbors=11, p=2, metric='euclidean')"
   ]
  },
  {
   "cell_type": "markdown",
   "id": "c6e70242",
   "metadata": {},
   "source": [
    "why 11? because if we square root the y_train, and get the length, we'll get 12.40967. We don't want this cause it's an even number, so we take 1 away to make it odd. \n",
    "Why odd? The odd value of K should be preferred over even values in order to ensure that there are no ties in the voting."
   ]
  },
  {
   "cell_type": "code",
   "execution_count": 9,
   "id": "001c90cb",
   "metadata": {},
   "outputs": [
    {
     "data": {
      "text/plain": [
       "KNeighborsClassifier(metric='euclidean', n_neighbors=11)"
      ]
     },
     "execution_count": 9,
     "metadata": {},
     "output_type": "execute_result"
    }
   ],
   "source": [
    "# Fit Model\n",
    "classifier.fit(X_train, y_train)"
   ]
  },
  {
   "cell_type": "code",
   "execution_count": 10,
   "id": "fd14ad70",
   "metadata": {},
   "outputs": [
    {
     "data": {
      "text/plain": [
       "array([1, 0, 0, 1, 0, 0, 1, 1, 0, 0, 1, 1, 0, 0, 0, 0, 1, 0, 0, 0, 1, 0,\n",
       "       0, 0, 0, 0, 0, 1, 0, 0, 1, 0, 0, 1, 0, 1, 0, 0, 0, 1, 0, 0, 0, 1,\n",
       "       1, 0, 0, 0, 0, 0, 1, 0, 1, 1, 0, 0, 0, 1, 0, 1, 1, 0, 0, 1, 1, 1,\n",
       "       1, 0, 0, 0, 0, 0, 0, 1, 1, 0, 0, 1, 0, 0, 0, 0, 0, 0, 0, 0, 0, 0,\n",
       "       1, 0, 0, 0, 0, 0, 1, 0, 0, 1, 1, 1, 0, 0, 0, 0, 1, 1, 0, 1, 0, 1,\n",
       "       0, 0, 1, 1, 1, 1, 0, 0, 0, 1, 0, 0, 0, 0, 0, 0, 0, 0, 0, 0, 0, 0,\n",
       "       0, 0, 0, 1, 0, 0, 0, 0, 0, 1, 0, 0, 1, 0, 0, 0, 0, 0, 0, 0, 0, 0],\n",
       "      dtype=int64)"
      ]
     },
     "execution_count": 10,
     "metadata": {},
     "output_type": "execute_result"
    }
   ],
   "source": [
    "# Predict the test set results\n",
    "y_pred = classifier.predict(X_test)\n",
    "y_pred"
   ]
  },
  {
   "cell_type": "code",
   "execution_count": 11,
   "id": "45ffc321",
   "metadata": {},
   "outputs": [
    {
     "name": "stdout",
     "output_type": "stream",
     "text": [
      "[[94 13]\n",
      " [15 32]]\n"
     ]
    }
   ],
   "source": [
    "# Evaluate the Model\n",
    "cm = confusion_matrix(y_test, y_pred)\n",
    "print(cm)"
   ]
  },
  {
   "cell_type": "markdown",
   "id": "ec5a0155",
   "metadata": {},
   "source": [
    "The way you read it: The model successfully classified 94, with 13 false positives\n",
    "                     The model successfully classified 32, with 15 false positives"
   ]
  },
  {
   "cell_type": "code",
   "execution_count": 12,
   "id": "5ed93eae",
   "metadata": {},
   "outputs": [
    {
     "name": "stdout",
     "output_type": "stream",
     "text": [
      "0.6956521739130436\n"
     ]
    }
   ],
   "source": [
    "print(f1_score(y_test, y_pred)) # more accurate representation of the performance of the ML model"
   ]
  },
  {
   "cell_type": "code",
   "execution_count": 13,
   "id": "e4401bd4",
   "metadata": {},
   "outputs": [
    {
     "name": "stdout",
     "output_type": "stream",
     "text": [
      "0.8181818181818182\n"
     ]
    }
   ],
   "source": [
    "print(accuracy_score(y_test, y_pred)) # doesn't take into account the false positives"
   ]
  },
  {
   "cell_type": "code",
   "execution_count": null,
   "id": "016d3ad8",
   "metadata": {},
   "outputs": [],
   "source": []
  }
 ],
 "metadata": {
  "kernelspec": {
   "display_name": "Python 3 (ipykernel)",
   "language": "python",
   "name": "python3"
  },
  "language_info": {
   "codemirror_mode": {
    "name": "ipython",
    "version": 3
   },
   "file_extension": ".py",
   "mimetype": "text/x-python",
   "name": "python",
   "nbconvert_exporter": "python",
   "pygments_lexer": "ipython3",
   "version": "3.9.7"
  }
 },
 "nbformat": 4,
 "nbformat_minor": 5
}
